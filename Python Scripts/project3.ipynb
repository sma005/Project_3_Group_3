{
 "cells": [
  {
   "cell_type": "code",
   "execution_count": 1,
   "metadata": {},
   "outputs": [],
   "source": [
    "# Connection Strings - json\n",
    "\n",
    "# Connection Strings - SQL database (where we are writing to)\n",
    "\n",
    "# Translate json file into objects\n",
    "\n",
    "# Fstrings to write dynamic SQL code into tables\n",
    "\n",
    "# Close connection strings"
   ]
  },
  {
   "cell_type": "code",
   "execution_count": 1,
   "metadata": {},
   "outputs": [],
   "source": [
    "# Import Depencies\n",
    "\n",
    "import matplotlib.pyplot as plt\n",
    "import pandas as pd\n",
    "import numpy as np\n",
    "import requests\n",
    "import time\n",
    "import json\n",
    "from apikey import apikey\n",
    "\n",
    "# Turn off warning messages\n",
    "import warnings\n",
    "warnings.filterwarnings(\"ignore\")"
   ]
  },
  {
   "cell_type": "code",
   "execution_count": 2,
   "metadata": {},
   "outputs": [],
   "source": [
    "# Build query URL\n",
    "url = \"https://api.geoapify.com/v2/places?PARAMS\" + apikey\n",
    "query_url = url + \"appid=\"+ apikey + \"&q=\"\n",
    "response = requests.get(query_url)\n",
    "json = response.json()"
   ]
  },
  {
   "cell_type": "code",
   "execution_count": 3,
   "metadata": {},
   "outputs": [
    {
     "name": "stdout",
     "output_type": "stream",
     "text": [
      "{'statusCode': 401, 'error': 'Unauthorized', 'message': 'Invalid apiKey'}\n"
     ]
    }
   ],
   "source": [
    "# print out general data from API request\n",
    "print(json)"
   ]
  },
  {
   "cell_type": "code",
   "execution_count": 4,
   "metadata": {},
   "outputs": [
    {
     "name": "stdout",
     "output_type": "stream",
     "text": [
      "https://api.geoapify.com/v2/places?PARAMS4b3247f036154c9bbd6288fa6c8905d7appid=4b3247f036154c9bbd6288fa6c8905d7&q=\n"
     ]
    }
   ],
   "source": [
    "print(query_url)"
   ]
  },
  {
   "cell_type": "markdown",
   "metadata": {},
   "source": []
  },
  {
   "cell_type": "code",
   "execution_count": 11,
   "metadata": {},
   "outputs": [
    {
     "data": {
      "text/plain": [
       "'https://api.geoapify.com/v2/places?PARAMS4b3247f036154c9bbd6288fa6c8905d7appid=4b3247f036154c9bbd6288fa6c8905d7&q=commercial_stringparking_string'"
      ]
     },
     "execution_count": 11,
     "metadata": {},
     "output_type": "execute_result"
    }
   ],
   "source": [
    "# List of categories\n",
    "# catering, commercial.food_and_drinks, accomodations, entertainment, leisure, parking\n",
    "category_string = \"\"\n",
    "\n",
    "catering = False\n",
    "commercial = True\n",
    "accomodations = False\n",
    "entertainment = False\n",
    "leisure = False\n",
    "parking = True\n",
    "\n",
    "category_dict = {'catering_string' : catering, 'commercial_string' : commercial, 'accomodation_string' : accomodations, \\\n",
    "                        'entertainment_string' : entertainment, 'leisure_string': leisure, 'parking_string' : parking}\n",
    "\n",
    "string_of_categories = \"\"\n",
    "\n",
    "for k,v in category_dict.items():\n",
    "    if v:\n",
    "        string_of_categories = string_of_categories + k\n",
    "\n",
    "url = query_url + string_of_categories\n",
    "\n",
    "url\n",
    "\n",
    "# conditions, organic.only, vegetarian.only, wheelchair.yes\n",
    "\n",
    "# atms in radius, \n",
    "\n",
    "# contact information for the restaurants, opening/closing hours, web address, phone number"
   ]
  }
 ],
 "metadata": {
  "kernelspec": {
   "display_name": "Python 3 (ipykernel)",
   "language": "python",
   "name": "python3"
  },
  "language_info": {
   "codemirror_mode": {
    "name": "ipython",
    "version": 3
   },
   "file_extension": ".py",
   "mimetype": "text/x-python",
   "name": "python",
   "nbconvert_exporter": "python",
   "pygments_lexer": "ipython3",
   "version": "3.11.5"
  }
 },
 "nbformat": 4,
 "nbformat_minor": 2
}
