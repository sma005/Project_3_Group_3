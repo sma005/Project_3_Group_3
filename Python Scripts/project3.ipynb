{
 "cells": [
  {
   "cell_type": "code",
   "execution_count": 1,
   "metadata": {},
   "outputs": [],
   "source": [
    "# Connection Strings - json\n",
    "\n",
    "# Connection Strings - SQL database (where we are writing to)\n",
    "\n",
    "# Translate json file into objects\n",
    "\n",
    "# Fstrings to write dynamic SQL code into tables\n",
    "\n",
    "# Close connection strings"
   ]
  },
  {
   "cell_type": "code",
   "execution_count": 11,
   "metadata": {},
   "outputs": [],
   "source": [
    "# Import Depencies\n",
    "\n",
    "import matplotlib.pyplot as plt\n",
    "import pandas as pd\n",
    "import numpy as np\n",
    "import requests\n",
    "import time\n",
    "import json\n",
    "from apikey import apikey\n",
    "\n",
    "# Turn off warning messages\n",
    "import warnings\n",
    "warnings.filterwarnings(\"ignore\")"
   ]
  },
  {
   "cell_type": "code",
   "execution_count": 12,
   "metadata": {},
   "outputs": [],
   "source": [
    "# Build query URL\n",
    "url = \"https://api.geoapify.com/v2/places?PARAMS\" + apikey\n",
    "query_url = url + \"appid=\"+ apikey + \"&q=\"\n",
    "response = requests.get(query_url)\n",
    "json = response.json()"
   ]
  },
  {
   "cell_type": "code",
   "execution_count": 13,
   "metadata": {},
   "outputs": [
    {
     "name": "stdout",
     "output_type": "stream",
     "text": [
      "{'statusCode': 401, 'error': 'Unauthorized', 'message': 'Invalid apiKey'}\n"
     ]
    }
   ],
   "source": [
    "# print out general data from API request\n",
    "print(json)"
   ]
  },
  {
   "cell_type": "code",
   "execution_count": 6,
   "metadata": {},
   "outputs": [
    {
     "name": "stdout",
     "output_type": "stream",
     "text": [
      "https://api.geoapify.com/v2/places?PARAMSd3db335226b14b869ffcacbd6a2eb962appid=d3db335226b14b869ffcacbd6a2eb962&q=\n"
     ]
    }
   ],
   "source": [
    "print(query_url)"
   ]
  },
  {
   "cell_type": "markdown",
   "metadata": {},
   "source": []
  },
  {
   "cell_type": "code",
   "execution_count": null,
   "metadata": {},
   "outputs": [],
   "source": [
    "# List of categories\n",
    "# catering, commercial.food_and_drinks, accomodations, entertainment, leisure, parking\n",
    "\n",
    "# conditions, organic.only, vegetarian.only, wheelchair.yes\n",
    "\n",
    "# atms in radius, \n",
    "\n",
    "# contact information for the restaurants, opening/closing hours, web address, phone number"
   ]
  }
 ],
 "metadata": {
  "kernelspec": {
   "display_name": "Python 3 (ipykernel)",
   "language": "python",
   "name": "python3"
  },
  "language_info": {
   "codemirror_mode": {
    "name": "ipython",
    "version": 3
   },
   "file_extension": ".py",
   "mimetype": "text/x-python",
   "name": "python",
   "nbconvert_exporter": "python",
   "pygments_lexer": "ipython3",
   "version": "3.10.13"
  }
 },
 "nbformat": 4,
 "nbformat_minor": 2
}
